{
  "nbformat": 4,
  "nbformat_minor": 0,
  "metadata": {
    "kernelspec": {
      "display_name": "Python 3",
      "language": "python",
      "name": "python3"
    },
    "language_info": {
      "codemirror_mode": {
        "name": "ipython",
        "version": 3
      },
      "file_extension": ".py",
      "mimetype": "text/x-python",
      "name": "python",
      "nbconvert_exporter": "python",
      "pygments_lexer": "ipython3",
      "version": "3.7.3"
    },
    "colab": {
      "name": "Lecture04_a.ipynb",
      "provenance": [],
      "include_colab_link": true
    }
  },
  "cells": [
    {
      "cell_type": "markdown",
      "metadata": {
        "id": "view-in-github",
        "colab_type": "text"
      },
      "source": [
        "<a href=\"https://colab.research.google.com/github/FairozaAmira/AI-programming-1-a/blob/master/Lecture04_a.ipynb\" target=\"_parent\"><img src=\"https://colab.research.google.com/assets/colab-badge.svg\" alt=\"Open In Colab\"/></a>"
      ]
    },
    {
      "cell_type": "markdown",
      "metadata": {
        "id": "T6UuzVPzv4p5",
        "colab_type": "text"
      },
      "source": [
        "# 変数\n",
        "\n",
        "**変数を導入する**\n",
        "\n",
        "1. `2`を`x`の変数に導入する"
      ]
    },
    {
      "cell_type": "code",
      "metadata": {
        "id": "S8m3_u7kv4p9",
        "colab_type": "code",
        "colab": {
          "base_uri": "https://localhost:8080/",
          "height": 34
        },
        "outputId": "e6c3afe6-b925-4e96-eecc-97a8948e63b0"
      },
      "source": [
        "x = 2\n",
        "print(x)"
      ],
      "execution_count": 1,
      "outputs": [
        {
          "output_type": "stream",
          "text": [
            "2\n"
          ],
          "name": "stdout"
        }
      ]
    },
    {
      "cell_type": "markdown",
      "metadata": {
        "id": "QjHGCYHxv4qD",
        "colab_type": "text"
      },
      "source": [
        "2. 整数、文字列とリストを変数`x`に導入する"
      ]
    },
    {
      "cell_type": "code",
      "metadata": {
        "id": "CyaD2kgPv4qE",
        "colab_type": "code",
        "colab": {
          "base_uri": "https://localhost:8080/",
          "height": 69
        },
        "outputId": "de138896-e61c-40ab-fb8f-752dec9e7033"
      },
      "source": [
        "x = 1   #ｘは整数\n",
        "print(x)\n",
        "x = \"hello\"  #xは文字列\n",
        "print(x)\n",
        "x = [1, 2, 3] #xは1,2,3のリスト\n",
        "print(x)"
      ],
      "execution_count": 2,
      "outputs": [
        {
          "output_type": "stream",
          "text": [
            "1\n",
            "hello\n",
            "[1, 2, 3]\n"
          ],
          "name": "stdout"
        }
      ]
    },
    {
      "cell_type": "markdown",
      "metadata": {
        "id": "xhc6xgnXv4qG",
        "colab_type": "text"
      },
      "source": [
        "3. `y`を`x`に導入する"
      ]
    },
    {
      "cell_type": "code",
      "metadata": {
        "id": "WNZp8nbDv4qH",
        "colab_type": "code",
        "colab": {
          "base_uri": "https://localhost:8080/",
          "height": 34
        },
        "outputId": "71ba4cf7-cd65-4b79-8c4d-6d9177d52e76"
      },
      "source": [
        "y = x\n",
        "print(y)"
      ],
      "execution_count": 3,
      "outputs": [
        {
          "output_type": "stream",
          "text": [
            "[1, 2, 3]\n"
          ],
          "name": "stdout"
        }
      ]
    },
    {
      "cell_type": "markdown",
      "metadata": {
        "id": "6Q--BLU1v4qK",
        "colab_type": "text"
      },
      "source": [
        "4. `append()`を使って、`x`の変数に`4`を追加する"
      ]
    },
    {
      "cell_type": "code",
      "metadata": {
        "id": "B4Uv0R3wv4qK",
        "colab_type": "code",
        "colab": {
          "base_uri": "https://localhost:8080/",
          "height": 34
        },
        "outputId": "fbbd459e-3960-4b63-d61c-d00c99726a05"
      },
      "source": [
        "x.append(4)\n",
        "print(y)"
      ],
      "execution_count": 4,
      "outputs": [
        {
          "output_type": "stream",
          "text": [
            "[1, 2, 3, 4]\n"
          ],
          "name": "stdout"
        }
      ]
    },
    {
      "cell_type": "markdown",
      "metadata": {
        "id": "PDPcLCEFv4qM",
        "colab_type": "text"
      },
      "source": [
        "5. `x`に他のものに導入し、`y`を出力してみる"
      ]
    },
    {
      "cell_type": "code",
      "metadata": {
        "id": "bamfbFlNv4qN",
        "colab_type": "code",
        "colab": {
          "base_uri": "https://localhost:8080/",
          "height": 34
        },
        "outputId": "d3fea56f-56c3-40c7-e23c-4ccf78e4a14a"
      },
      "source": [
        "x = \"something else\"\n",
        "print(y)"
      ],
      "execution_count": 5,
      "outputs": [
        {
          "output_type": "stream",
          "text": [
            "[1, 2, 3, 4]\n"
          ],
          "name": "stdout"
        }
      ]
    },
    {
      "cell_type": "markdown",
      "metadata": {
        "id": "6G2AS-7zv4qP",
        "colab_type": "text"
      },
      "source": [
        "6. `4`を`x`に導入し、`type()`を使って、`x`の種類を見せてください。"
      ]
    },
    {
      "cell_type": "code",
      "metadata": {
        "id": "e7IZkEokv4qQ",
        "colab_type": "code",
        "colab": {
          "base_uri": "https://localhost:8080/",
          "height": 34
        },
        "outputId": "f46fe7a1-7d39-4006-b9b0-f0989a526252"
      },
      "source": [
        "x = 4\n",
        "type(x)"
      ],
      "execution_count": 6,
      "outputs": [
        {
          "output_type": "execute_result",
          "data": {
            "text/plain": [
              "int"
            ]
          },
          "metadata": {
            "tags": []
          },
          "execution_count": 6
        }
      ]
    },
    {
      "cell_type": "markdown",
      "metadata": {
        "id": "-FHoiF54v4qS",
        "colab_type": "text"
      },
      "source": [
        "7. `hello`を`x`に導入し、`type()`を使って、`x`の種類を見せてください。"
      ]
    },
    {
      "cell_type": "code",
      "metadata": {
        "id": "sze7caNdv4qT",
        "colab_type": "code",
        "colab": {
          "base_uri": "https://localhost:8080/",
          "height": 34
        },
        "outputId": "0bc81d64-3401-4786-bfb3-5c9bfa452bd0"
      },
      "source": [
        "x = \"hello\"\n",
        "type(x)"
      ],
      "execution_count": 7,
      "outputs": [
        {
          "output_type": "execute_result",
          "data": {
            "text/plain": [
              "str"
            ]
          },
          "metadata": {
            "tags": []
          },
          "execution_count": 7
        }
      ]
    },
    {
      "cell_type": "markdown",
      "metadata": {
        "id": "GcO9PBmdv4qV",
        "colab_type": "text"
      },
      "source": [
        "8. `3.14159`を`x`に導入し、`type()`を使って、`x`の種類を見せてください。"
      ]
    },
    {
      "cell_type": "code",
      "metadata": {
        "id": "N7Ap1zSZv4qV",
        "colab_type": "code",
        "colab": {
          "base_uri": "https://localhost:8080/",
          "height": 34
        },
        "outputId": "bb0c0c45-b6b8-4264-a43c-77bbc43a99c5"
      },
      "source": [
        "x = 3.14159\n",
        "type(x)"
      ],
      "execution_count": 8,
      "outputs": [
        {
          "output_type": "execute_result",
          "data": {
            "text/plain": [
              "float"
            ]
          },
          "metadata": {
            "tags": []
          },
          "execution_count": 8
        }
      ]
    },
    {
      "cell_type": "markdown",
      "metadata": {
        "id": "wU4zu934v4qY",
        "colab_type": "text"
      },
      "source": [
        "# 算術演算"
      ]
    },
    {
      "cell_type": "markdown",
      "metadata": {
        "id": "PMvp-yR7v4qa",
        "colab_type": "text"
      },
      "source": [
        "1. $(5+2) \\times (12 \\div 4)$ を計算して、出力してください。"
      ]
    },
    {
      "cell_type": "code",
      "metadata": {
        "id": "DzuVRAnPv4qc",
        "colab_type": "code",
        "colab": {
          "base_uri": "https://localhost:8080/",
          "height": 34
        },
        "outputId": "5e0d1abf-96a3-48a7-eb76-9188ff719192"
      },
      "source": [
        "(5 + 2) * (12 / 4)"
      ],
      "execution_count": 9,
      "outputs": [
        {
          "output_type": "execute_result",
          "data": {
            "text/plain": [
              "21.0"
            ]
          },
          "metadata": {
            "tags": []
          },
          "execution_count": 9
        }
      ]
    },
    {
      "cell_type": "markdown",
      "metadata": {
        "id": "mL27jt8Yv4qf",
        "colab_type": "text"
      },
      "source": [
        "2. 以下の出力は何ですか？\n",
        "\n",
        "a. `print (11 /3)` \n",
        "\n",
        "b. `print (11//3)`"
      ]
    },
    {
      "cell_type": "code",
      "metadata": {
        "id": "gPX5px3Gv4qg",
        "colab_type": "code",
        "colab": {
          "base_uri": "https://localhost:8080/",
          "height": 34
        },
        "outputId": "34b16635-0f97-4aa1-d587-4ebc9d784f3f"
      },
      "source": [
        "print(11/3)"
      ],
      "execution_count": 10,
      "outputs": [
        {
          "output_type": "stream",
          "text": [
            "3.6666666666666665\n"
          ],
          "name": "stdout"
        }
      ]
    },
    {
      "cell_type": "code",
      "metadata": {
        "id": "sJpzS4aEv4qj",
        "colab_type": "code",
        "colab": {
          "base_uri": "https://localhost:8080/",
          "height": 34
        },
        "outputId": "e9794ede-9e07-4d45-fdad-a8d652766f2c"
      },
      "source": [
        "print(11//3)"
      ],
      "execution_count": 11,
      "outputs": [
        {
          "output_type": "stream",
          "text": [
            "3\n"
          ],
          "name": "stdout"
        }
      ]
    },
    {
      "cell_type": "markdown",
      "metadata": {
        "id": "uhBEFlRlv4ql",
        "colab_type": "text"
      },
      "source": [
        "3. $2^5$を計算してください"
      ]
    },
    {
      "cell_type": "code",
      "metadata": {
        "id": "mS0WeWLhv4qm",
        "colab_type": "code",
        "colab": {
          "base_uri": "https://localhost:8080/",
          "height": 34
        },
        "outputId": "a1999687-1376-485c-b47b-c8c22fb2e15f"
      },
      "source": [
        "2**5"
      ],
      "execution_count": 12,
      "outputs": [
        {
          "output_type": "execute_result",
          "data": {
            "text/plain": [
              "32"
            ]
          },
          "metadata": {
            "tags": []
          },
          "execution_count": 12
        }
      ]
    },
    {
      "cell_type": "markdown",
      "metadata": {
        "id": "9KLzGHrjv4qo",
        "colab_type": "text"
      },
      "source": [
        "# ビット算術"
      ]
    },
    {
      "cell_type": "markdown",
      "metadata": {
        "id": "9EGCtcbpv4qp",
        "colab_type": "text"
      },
      "source": [
        "1. 12の2進数を計算してください。"
      ]
    },
    {
      "cell_type": "code",
      "metadata": {
        "id": "AQabN9Btv4qq",
        "colab_type": "code",
        "colab": {
          "base_uri": "https://localhost:8080/",
          "height": 34
        },
        "outputId": "920ccbd3-98e2-48ff-d03a-58a209c8937f"
      },
      "source": [
        "bin(12)"
      ],
      "execution_count": 13,
      "outputs": [
        {
          "output_type": "execute_result",
          "data": {
            "text/plain": [
              "'0b1100'"
            ]
          },
          "metadata": {
            "tags": []
          },
          "execution_count": 13
        }
      ]
    },
    {
      "cell_type": "markdown",
      "metadata": {
        "id": "HIpAii_Wv4qs",
        "colab_type": "text"
      },
      "source": [
        "2. `4`の2進数を計算してください"
      ]
    },
    {
      "cell_type": "code",
      "metadata": {
        "id": "KiNBkpGSv4qt",
        "colab_type": "code",
        "colab": {
          "base_uri": "https://localhost:8080/",
          "height": 34
        },
        "outputId": "fdc520ba-c65f-488a-c6fd-905280367654"
      },
      "source": [
        "bin(4)"
      ],
      "execution_count": 14,
      "outputs": [
        {
          "output_type": "execute_result",
          "data": {
            "text/plain": [
              "'0b100'"
            ]
          },
          "metadata": {
            "tags": []
          },
          "execution_count": 14
        }
      ]
    },
    {
      "cell_type": "markdown",
      "metadata": {
        "id": "pwWe_Toqv4qw",
        "colab_type": "text"
      },
      "source": [
        "3. 12と４のOR演算を計算し、その2進数も計算してください。"
      ]
    },
    {
      "cell_type": "code",
      "metadata": {
        "id": "R8hTCID0v4qx",
        "colab_type": "code",
        "colab": {
          "base_uri": "https://localhost:8080/",
          "height": 34
        },
        "outputId": "1691e48c-5321-4890-fbd5-c02fe175d063"
      },
      "source": [
        "12 | 4"
      ],
      "execution_count": 15,
      "outputs": [
        {
          "output_type": "execute_result",
          "data": {
            "text/plain": [
              "12"
            ]
          },
          "metadata": {
            "tags": []
          },
          "execution_count": 15
        }
      ]
    },
    {
      "cell_type": "code",
      "metadata": {
        "id": "zpjcQULQv4qz",
        "colab_type": "code",
        "colab": {
          "base_uri": "https://localhost:8080/",
          "height": 34
        },
        "outputId": "963c20f4-f251-4dea-ab04-590d8fb40d4f"
      },
      "source": [
        "bin (12|4)"
      ],
      "execution_count": 16,
      "outputs": [
        {
          "output_type": "execute_result",
          "data": {
            "text/plain": [
              "'0b1100'"
            ]
          },
          "metadata": {
            "tags": []
          },
          "execution_count": 16
        }
      ]
    },
    {
      "cell_type": "code",
      "metadata": {
        "id": "Xos8AU3bv4q3",
        "colab_type": "code",
        "colab": {
          "base_uri": "https://localhost:8080/",
          "height": 34
        },
        "outputId": "91cf93f8-80ec-4506-d4df-b8360e6f8095"
      },
      "source": [
        "bin(1)"
      ],
      "execution_count": 17,
      "outputs": [
        {
          "output_type": "execute_result",
          "data": {
            "text/plain": [
              "'0b1'"
            ]
          },
          "metadata": {
            "tags": []
          },
          "execution_count": 17
        }
      ]
    }
  ]
}